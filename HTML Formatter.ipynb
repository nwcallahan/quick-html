{
 "cells": [
  {
   "cell_type": "markdown",
   "id": "f2881b9d",
   "metadata": {},
   "source": [
    "[![Open In Colab](https://colab.research.google.com/assets/colab-badge.svg)](https://colab.research.google.com/github/nwcallahan/quick-html/blob/main/HTML%20Formatter.ipynb)"
   ]
  },
  {
   "cell_type": "markdown",
   "id": "fcfc5c18",
   "metadata": {},
   "source": [
    "# quick-html\n",
    "Generate simple HTML files from an interactive Jupyter notebook\n",
    "\n",
    "This tool allows you to interactively write and view a simple HTML file consisting of a title, header, image, and paragraph. The contents of the paragraph is HTML itself, meaning that any typical HTML tags written inside will hold their same properties. Class names and IDs are automatically generated for the built in tags, so a common style.css file can provide formatting that will not alter the contents of the generated file but could clean up the presentation by a large margin.\n",
    "\n",
    "Ideally the file is run in a local Jupyter notebook, which requires Python to be installed on your machine. However, it can be run online in Google Colaboratory environment (which is just a different format of a Jupyter server) if you login to a Google account. The main disadvantage to this is the code won't be able to automatically save your HTML output & image to your person machine, however by downloading the contents saved on Google (either to your machine or into a Google Drive) you can transfer the code generated. The generated HTML is viewable through the notebook, so copy/pasting is fair game as well.\n",
    "\n",
    "The notebook should be run cell by cell, attempting to download the HTML with the code in the final cell will result in a blank document if that final cell was not run after changes were added in the prior interactive cells. The final cell is only meant for use with Google Colab, and may be quite buggy. It will not download desired images, only the HTML, but the <img> tag will still be updated according to the URL or local file path you specified prior, so ensuring the link is active or downloading said image to the desired directory will be necessary if accessing online.\n",
    "\n",
    "If this is adopted it can be easily expanded and formatted, if anyone wants to mess around with a copy be my guest, the HTML template is done with [Airium](https://pypi.org/project/airium/) which is little more than a translation between Python syntax and HTML tags, so modifying the body of the document or ordering is analagous to what would be done within raw HTML.\n",
    "\n",
    "For convenience, '\\n' and '\\t' characters in the paragraph body will automatically be converted to HTML versions of a newline and 4 space tab. Images are expected to be sourced directly from URLs, but linking a downloaded image to the HTML should work as well when viewing the final product _outside_ the Jupyter notebook. For whatever reason, even absolute paths to images do not seem to display within the notebook's HTML preview. An option exists to download the images linked by external URL, which saves them to the decided directory alongside the HTML file *and* replaces the <img> tag's source in the HTML code. This is to protect yourself against links rotting between writing and viewing of the resulting webpage, but is not necessary and can cause confusion with the movement of files. *When using this feature, it is expected that downloaded images are stored directly alongside the HTML document.*"
   ]
  },
  {
   "cell_type": "code",
   "execution_count": null,
   "id": "671f90c0",
   "metadata": {},
   "outputs": [],
   "source": [
    "!pip install airium\n",
    "!pip install ipywidgets"
   ]
  },
  {
   "cell_type": "code",
   "execution_count": 1,
   "id": "c0891f3b",
   "metadata": {},
   "outputs": [],
   "source": [
    "import contextlib, io\n",
    "zen = io.StringIO()\n",
    "\n",
    "with contextlib.redirect_stdout(zen):\n",
    "    import this\n",
    "\n",
    "zen_of_python = repr(zen.getvalue())"
   ]
  },
  {
   "cell_type": "code",
   "execution_count": 2,
   "id": "b3ba6da7",
   "metadata": {},
   "outputs": [],
   "source": [
    "from IPython.display import display, HTML, Image, clear_output\n",
    "from airium import Airium\n",
    "import ipywidgets as widgets\n",
    "import urllib.request\n",
    "import os\n",
    "# For HTML Formatting See...\n",
    "# https://www.w3schools.com/html/html_formatting.asp\n",
    "result_dict = {\n",
    "    'Directory' : os.path.join(os.getcwd(), '/CS403Webpage/'),\n",
    "    'Title' : 'Python Webpage',\n",
    "    'Header' : 'Python CS403',\n",
    "    'Paragraph' : zen_of_python.replace(r'\\n','<br>').replace('\"',''),\n",
    "    'Image' : 'https://logos-world.net/wp-content/uploads/2021/10/Python-Symbol.png',\n",
    "}\n",
    "html = ''\n",
    "save_path = ''\n",
    "file_path = ''\n",
    "page_name = 'webpage.html'\n",
    "\n",
    "width = '50%'\n",
    "auto_save = True\n",
    "img_stored = 'NotIncluded'"
   ]
  },
  {
   "cell_type": "code",
   "execution_count": 5,
   "id": "b56786ad",
   "metadata": {},
   "outputs": [
    {
     "data": {
      "application/vnd.jupyter.widget-view+json": {
       "model_id": "883eebeabb434dd3b286a7d59512e99b",
       "version_major": 2,
       "version_minor": 0
      },
      "text/plain": [
       "Text(value='C:/CS403Webpage/', description='Directory:', layout=Layout(width='50%'))"
      ]
     },
     "metadata": {},
     "output_type": "display_data"
    },
    {
     "data": {
      "application/vnd.jupyter.widget-view+json": {
       "model_id": "586bd907b16a492ca9d5cc4c12cb747f",
       "version_major": 2,
       "version_minor": 0
      },
      "text/plain": [
       "Text(value='Python Webpage', description='Title:', layout=Layout(width='50%'), placeholder='Tab Title Here')"
      ]
     },
     "metadata": {},
     "output_type": "display_data"
    },
    {
     "data": {
      "application/vnd.jupyter.widget-view+json": {
       "model_id": "96a1e1e938b14aeabf48948fa48b58e9",
       "version_major": 2,
       "version_minor": 0
      },
      "text/plain": [
       "Text(value='Python CS403', description='Header:', layout=Layout(width='50%'), placeholder='Text Header Here')"
      ]
     },
     "metadata": {},
     "output_type": "display_data"
    },
    {
     "data": {
      "application/vnd.jupyter.widget-view+json": {
       "model_id": "2c4e36a34e8c460d9f5b9d45297db97b",
       "version_major": 2,
       "version_minor": 0
      },
      "text/plain": [
       "Textarea(value=\"The Zen of Python, by Tim Peters<br><br>Beautiful is better than ugly.<br>Explicit is better t…"
      ]
     },
     "metadata": {},
     "output_type": "display_data"
    },
    {
     "data": {
      "application/vnd.jupyter.widget-view+json": {
       "model_id": "f3ecad8c587e45b2943b45476d6da57d",
       "version_major": 2,
       "version_minor": 0
      },
      "text/plain": [
       "Text(value='C:/CS403Webpage/Python-Symbol.png', description='Image URL:', layout=Layout(width='50%'), placehol…"
      ]
     },
     "metadata": {},
     "output_type": "display_data"
    },
    {
     "data": {
      "application/vnd.jupyter.widget-view+json": {
       "model_id": "135ece2ab37d4b59b036fd1d6161e567",
       "version_major": 2,
       "version_minor": 0
      },
      "text/plain": [
       "VBox(children=(Button(description='Store Image', layout=Layout(width='50%'), style=ButtonStyle(), tooltip='Sto…"
      ]
     },
     "metadata": {},
     "output_type": "display_data"
    },
    {
     "data": {
      "application/vnd.jupyter.widget-view+json": {
       "model_id": "243ac85d7e0147d4aa7624b988534271",
       "version_major": 2,
       "version_minor": 0
      },
      "text/plain": [
       "VBox(children=(Button(button_style='warning', description='Save Input', layout=Layout(width='50%'), style=Butt…"
      ]
     },
     "metadata": {},
     "output_type": "display_data"
    },
    {
     "data": {
      "application/vnd.jupyter.widget-view+json": {
       "model_id": "a6660bf5df714cd1bc218844c12cdea0",
       "version_major": 2,
       "version_minor": 0
      },
      "text/plain": [
       "VBox(children=(Button(button_style='danger', description='Show Document', layout=Layout(width='50%'), style=Bu…"
      ]
     },
     "metadata": {},
     "output_type": "display_data"
    },
    {
     "data": {
      "application/vnd.jupyter.widget-view+json": {
       "model_id": "d6efaf226f1641ddaf5f04158351e4b0",
       "version_major": 2,
       "version_minor": 0
      },
      "text/plain": [
       "VBox(children=(Button(button_style='success', description='Show Raw HTML', layout=Layout(width='50%'), style=B…"
      ]
     },
     "metadata": {},
     "output_type": "display_data"
    },
    {
     "data": {
      "application/vnd.jupyter.widget-view+json": {
       "model_id": "4d6c71bdc124481a9af6c16f80a9dd8c",
       "version_major": 2,
       "version_minor": 0
      },
      "text/plain": [
       "VBox(children=(Button(button_style='info', description='Store Webpage', layout=Layout(width='50%'), style=Butt…"
      ]
     },
     "metadata": {},
     "output_type": "display_data"
    }
   ],
   "source": [
    "directory_box = widgets.Text(\n",
    "    value=result_dict['Directory'],\n",
    "    description='Directory:',\n",
    "    tooltip='Destination Directory for Generated Files',\n",
    "    layout=widgets.Layout(width=width),\n",
    ")\n",
    "display(directory_box)\n",
    "title_box = widgets.Text(\n",
    "    value=result_dict['Title'],\n",
    "    placeholder='Tab Title Here',\n",
    "    description='Title:',\n",
    "    layout=widgets.Layout(width=width),\n",
    ")\n",
    "display(title_box)\n",
    "header_box = widgets.Text(\n",
    "    value=result_dict['Header'],\n",
    "    placeholder='Text Header Here',\n",
    "    description='Header:',\n",
    "    layout=widgets.Layout(width=width),\n",
    ")\n",
    "display(header_box)\n",
    "paragraph_box = widgets.Textarea(\n",
    "    value=result_dict['Paragraph'],\n",
    "    placeholder='Formatted Text Here',\n",
    "    description='Paragraph:',\n",
    "    layout=widgets.Layout(width=width),\n",
    ")\n",
    "display(paragraph_box)\n",
    "image_box = widgets.Text(\n",
    "    value=result_dict['Image'],\n",
    "    placeholder='Link to Image Here',\n",
    "    description='Image URL:',\n",
    "    layout=widgets.Layout(width=width),\n",
    ")\n",
    "display(image_box)\n",
    "store_button = widgets.Button(\n",
    "    value=False,\n",
    "    description='Store Image',\n",
    "    button_style='',\n",
    "    tooltip='Store Image in Local Directory?',\n",
    "    layout=widgets.Layout(width=width),\n",
    ")\n",
    "save_button = widgets.Button(\n",
    "    value=False,\n",
    "    description='Save Input',\n",
    "    button_style='warning',\n",
    "    tooltip='Update Webpage Document?',\n",
    "    layout=widgets.Layout(width=width),\n",
    ")\n",
    "save_input = widgets.Output()\n",
    "show_button = widgets.Button(\n",
    "    value=False,\n",
    "    description='Show Document',\n",
    "    button_style='danger',\n",
    "    tooltip='Show Webpage Results?',\n",
    "    layout=widgets.Layout(width=width),\n",
    ")    \n",
    "show_output = widgets.Output()\n",
    "finish_button = widgets.Button(\n",
    "    value=False,\n",
    "    description='Store Webpage',\n",
    "    button_style='info',\n",
    "    tooltip='Show Webpage Results?',\n",
    "    layout=widgets.Layout(width=width),\n",
    ")    \n",
    "finish_output = widgets.Output()\n",
    "img_output = widgets.Output()\n",
    "\n",
    "show_text_button = widgets.Button(\n",
    "    value=False,\n",
    "    description='Show Raw HTML',\n",
    "    button_style='success',\n",
    "    tooltip='Display the HTML Contents?',\n",
    "    layout=widgets.Layout(width=width),\n",
    ")    \n",
    "show_text_output = widgets.Output()\n",
    "\n",
    "display(widgets.VBox([store_button, img_output]))\n",
    "display(widgets.VBox([save_button, save_input]))\n",
    "display(widgets.VBox([show_button, show_output]))\n",
    "display(widgets.VBox([show_text_button, show_text_output]))\n",
    "display(widgets.VBox([finish_button, finish_output]))\n",
    "\n",
    "def finish(b):\n",
    "    with finish_output:\n",
    "        clear_output()\n",
    "        file_path = os.path.join(result_dict['Directory'], page_name)\n",
    "        with open(file_path, 'w') as f:\n",
    "            f.write(html)\n",
    "        print(f\"File Written to {file_path} Finished!\")\n",
    "\n",
    "def show_raw_html(b):\n",
    "    with show_text_output:\n",
    "        if auto_save: update_dict()\n",
    "        clear_output()\n",
    "        print(html)\n",
    "        return\n",
    "    \n",
    "def update_dict():\n",
    "    result_dict['Directory'] = directory_box.value\n",
    "    result_dict['Title'] = title_box.value\n",
    "    result_dict['Header'] = header_box.value\n",
    "    paragraph_string = paragraph_box.value\n",
    "    paragraph_string = paragraph_string.replace(r'\\t','&emsp;').replace(r'\\n','<br>')\n",
    "    result_dict['Paragraph'] = paragraph_string\n",
    "    if img_stored not in image_box.value: result_dict['Image'] = image_box.value\n",
    "    local_path = os.path.join(result_dict['Directory'], result_dict['Image'].split('/')[-1])\n",
    "    return\n",
    "\n",
    "def on_click(b):\n",
    "    with save_input:\n",
    "        clear_output()\n",
    "        if auto_save: update_dict()\n",
    "        print(\"Results Saved!\")\n",
    "\n",
    "def save_img(b):\n",
    "    with img_output:\n",
    "        global img_stored\n",
    "        clear_output()\n",
    "        local_path = image_box.value.split('/')[-1]\n",
    "        abs_path = os.path.join(result_dict['Directory'], local_path)\n",
    "        target_dir = result_dict['Directory']\n",
    "        if not os.path.exists(target_dir):\n",
    "            print(f'Creating Directory {target_dir}')\n",
    "            os.mkdir(target_dir)\n",
    "        print(f'Saving Image to {abs_path}')\n",
    "        if image_box.value.startswith(('htt','www')):\n",
    "            urllib.request.urlretrieve(image_box.value, abs_path)\n",
    "        result_dict['Image'] = abs_path.split('/')[-1]\n",
    "        img_stored = local_path\n",
    "        update_dict()\n",
    "        \n",
    "def show_results(b):\n",
    "    with show_output:\n",
    "        global html\n",
    "        if auto_save: update_dict()\n",
    "        clear_output()\n",
    "#         img_path = result_dict['Image'] if img_stored not in result_dict['Image'] else img_stored\n",
    "        a = Airium()\n",
    "        a('<!DOCTYPE html>')\n",
    "        with a.html(lang=\"pl\"):\n",
    "            with a.head():\n",
    "                a.meta(charset=\"utf-8\")\n",
    "                a.link(rel='stylesheet', href='style.css')\n",
    "                a.title(text=result_dict['Title'])\n",
    "            with a.body():\n",
    "                with a.h1(id='1', klass='main_header'):\n",
    "                    a(result_dict['Header'])\n",
    "            a.img(src=result_dict['Image'], id='3', klass='main_image', alt='Image Should be Stored Locally', width='25%', height='auto')\n",
    "            with a.body():\n",
    "                with a.p(id='2', klass='main_paragraph'):\n",
    "                    a(result_dict['Paragraph'])\n",
    "        # Casting the file to a string to extract the value\n",
    "        html = str(a)\n",
    "        display(HTML(html))\n",
    "        result_dict['HTML'] = html\n",
    "        return\n",
    "    \n",
    "show_text_button.on_click(show_raw_html)\n",
    "store_button.on_click(save_img)\n",
    "show_button.on_click(show_results)    \n",
    "save_button.on_click(on_click)\n",
    "finish_button.on_click(finish)"
   ]
  },
  {
   "cell_type": "code",
   "execution_count": 4,
   "id": "a1a97d65",
   "metadata": {},
   "outputs": [
    {
     "data": {
      "text/html": [
       "\n",
       "<html>\n",
       "    <head>\n",
       "        <meta name=\"viewport\" content=\"width=device-width, initial-scale=1\">\n",
       "    </head>\n",
       "    <body>\n",
       "        <a download=\"webpage.html\" href=\"data:text/csv;base64,PCFET0NUWVBFIGh0bWw+CjxodG1sIGxhbmc9InBsIj4KICA8aGVhZD4KICAgIDxtZXRhIGNoYXJzZXQ9InV0Zi04IiAvPgogICAgPGxpbmsgcmVsPSJzdHlsZXNoZWV0IiBocmVmPSJzdHlsZS5jc3MiIC8+CiAgICA8dGl0bGUgdGV4dD0iUHl0aG9uIFdlYnBhZ2UiPjwvdGl0bGU+CiAgPC9oZWFkPgogIDxib2R5PgogICAgPGgxIGlkPSIxIiBjbGFzcz0ibWFpbl9oZWFkZXIiPgogICAgICBQeXRob24gQ1M0MDMKICAgIDwvaDE+CiAgPC9ib2R5PgogIDxpbWcgc3JjPSJodHRwczovL2xvZ29zLXdvcmxkLm5ldC93cC1jb250ZW50L3VwbG9hZHMvMjAyMS8xMC9QeXRob24tU3ltYm9sLnBuZyIgaWQ9IjMiIGNsYXNzPSJtYWluX2ltYWdlIiBhbHQ9IkltYWdlIFNob3VsZCBiZSBTdG9yZWQgTG9jYWxseSIgd2lkdGg9IjI1JSIgaGVpZ2h0PSJhdXRvIiAvPgogIDxib2R5PgogICAgPHAgaWQ9IjIiIGNsYXNzPSJtYWluX3BhcmFncmFwaCI+CiAgICAgIFRoZSBaZW4gb2YgUHl0aG9uLCBieSBUaW0gUGV0ZXJzPGJyPjxicj5CZWF1dGlmdWwgaXMgYmV0dGVyIHRoYW4gdWdseS48YnI+RXhwbGljaXQgaXMgYmV0dGVyIHRoYW4gaW1wbGljaXQuPGJyPlNpbXBsZSBpcyBiZXR0ZXIgdGhhbiBjb21wbGV4Ljxicj5Db21wbGV4IGlzIGJldHRlciB0aGFuIGNvbXBsaWNhdGVkLjxicj5GbGF0IGlzIGJldHRlciB0aGFuIG5lc3RlZC48YnI+U3BhcnNlIGlzIGJldHRlciB0aGFuIGRlbnNlLjxicj5SZWFkYWJpbGl0eSBjb3VudHMuPGJyPlNwZWNpYWwgY2FzZXMgYXJlbid0IHNwZWNpYWwgZW5vdWdoIHRvIGJyZWFrIHRoZSBydWxlcy48YnI+QWx0aG91Z2ggcHJhY3RpY2FsaXR5IGJlYXRzIHB1cml0eS48YnI+RXJyb3JzIHNob3VsZCBuZXZlciBwYXNzIHNpbGVudGx5Ljxicj5Vbmxlc3MgZXhwbGljaXRseSBzaWxlbmNlZC48YnI+SW4gdGhlIGZhY2Ugb2YgYW1iaWd1aXR5LCByZWZ1c2UgdGhlIHRlbXB0YXRpb24gdG8gZ3Vlc3MuPGJyPlRoZXJlIHNob3VsZCBiZSBvbmUtLSBhbmQgcHJlZmVyYWJseSBvbmx5IG9uZSAtLW9idmlvdXMgd2F5IHRvIGRvIGl0Ljxicj5BbHRob3VnaCB0aGF0IHdheSBtYXkgbm90IGJlIG9idmlvdXMgYXQgZmlyc3QgdW5sZXNzIHlvdSdyZSBEdXRjaC48YnI+Tm93IGlzIGJldHRlciB0aGFuIG5ldmVyLjxicj5BbHRob3VnaCBuZXZlciBpcyBvZnRlbiBiZXR0ZXIgdGhhbiAqcmlnaHQqIG5vdy48YnI+SWYgdGhlIGltcGxlbWVudGF0aW9uIGlzIGhhcmQgdG8gZXhwbGFpbiwgaXQncyBhIGJhZCBpZGVhLjxicj5JZiB0aGUgaW1wbGVtZW50YXRpb24gaXMgZWFzeSB0byBleHBsYWluLCBpdCBtYXkgYmUgYSBnb29kIGlkZWEuPGJyPk5hbWVzcGFjZXMgYXJlIG9uZSBob25raW5nIGdyZWF0IGlkZWEgLS0gbGV0J3MgZG8gbW9yZSBvZiB0aG9zZSE8YnI+CiAgICA8L3A+CiAgPC9ib2R5Pgo8L2h0bWw+\" download>\n",
       "            <button class=\"p-Widget jupyter-widgets jupyter-button widget-button mod-warning\">Download webpage.html</button>\n",
       "        </a>\n",
       "    </body>\n",
       "</html>\n"
      ],
      "text/plain": [
       "<IPython.core.display.HTML object>"
      ]
     },
     "metadata": {},
     "output_type": "display_data"
    }
   ],
   "source": [
    "import base64\n",
    "\n",
    "#FILE\n",
    "b64 = base64.b64encode(result_dict['HTML'].encode())\n",
    "\n",
    "html_buttons = f'''\n",
    "<html>\n",
    "    <head>\n",
    "        <meta name=\"viewport\" content=\"width=device-width, initial-scale=1\">\n",
    "    </head>\n",
    "    <body>\n",
    "        <a download=\"{page_name}\" href=\"data:text/csv;base64,{b64.decode()}\" download>\n",
    "            <button class=\"p-Widget jupyter-widgets jupyter-button widget-button mod-warning\">Download {page_name}</button>\n",
    "        </a>\n",
    "    </body>\n",
    "</html>\n",
    "'''\n",
    "\n",
    "# html_button = html_buttons.format(payload=b64.decode(), filename=filename)\n",
    "display(HTML(html_buttons))"
   ]
  },
  {
   "cell_type": "code",
   "execution_count": null,
   "id": "a96960ef",
   "metadata": {},
   "outputs": [],
   "source": []
  }
 ],
 "metadata": {
  "kernelspec": {
   "display_name": "Python 3 (ipykernel)",
   "language": "python",
   "name": "python3"
  },
  "language_info": {
   "codemirror_mode": {
    "name": "ipython",
    "version": 3
   },
   "file_extension": ".py",
   "mimetype": "text/x-python",
   "name": "python",
   "nbconvert_exporter": "python",
   "pygments_lexer": "ipython3",
   "version": "3.9.12"
  }
 },
 "nbformat": 4,
 "nbformat_minor": 5
}
