{
 "cells": [
  {
   "cell_type": "code",
   "execution_count": 1,
   "id": "ea4a9f57",
   "metadata": {},
   "outputs": [],
   "source": [
    "import contextlib, io\n",
    "with contextlib.redirect_stdout(zen := io.StringIO()):\n",
    "    import this\n",
    "\n",
    "zen_of_python = repr(zen.getvalue())"
   ]
  },
  {
   "cell_type": "code",
   "execution_count": 2,
   "id": "b3ba6da7",
   "metadata": {},
   "outputs": [],
   "source": [
    "from IPython.display import display, HTML, Image, clear_output\n",
    "from airium import Airium\n",
    "import ipywidgets as widgets\n",
    "import urllib.request\n",
    "import os\n",
    "# For HTML Formatting See...\n",
    "# https://www.w3schools.com/html/html_formatting.asp\n",
    "result_dict = {\n",
    "    'Directory' : os.path.join(os.getcwd(), '/CS403Webpage/'),\n",
    "    'Title' : 'Python Webpage',\n",
    "    'Header' : 'Python CS403',\n",
    "    'Paragraph' : zen_of_python.replace(r'\\n','<br>').replace('\"',''),\n",
    "    'Image' : 'https://logos-world.net/wp-content/uploads/2021/10/Python-Symbol.png',\n",
    "}\n",
    "html = ''\n",
    "save_path = ''\n",
    "width = '50%'\n",
    "auto_save = True\n",
    "img_stored = 'NotIncluded'"
   ]
  },
  {
   "cell_type": "code",
   "execution_count": 3,
   "id": "b56786ad",
   "metadata": {},
   "outputs": [
    {
     "data": {
      "application/vnd.jupyter.widget-view+json": {
       "model_id": "b226e864db534a50ad84ba434f96652e",
       "version_major": 2,
       "version_minor": 0
      },
      "text/plain": [
       "Text(value='C:/CS403Webpage/', description='Directory:', layout=Layout(width='50%'))"
      ]
     },
     "metadata": {},
     "output_type": "display_data"
    },
    {
     "data": {
      "application/vnd.jupyter.widget-view+json": {
       "model_id": "9cd48913b2e44916877cb76a13c337dd",
       "version_major": 2,
       "version_minor": 0
      },
      "text/plain": [
       "Text(value='Python Webpage', description='Title:', layout=Layout(width='50%'), placeholder='Tab Title Here')"
      ]
     },
     "metadata": {},
     "output_type": "display_data"
    },
    {
     "data": {
      "application/vnd.jupyter.widget-view+json": {
       "model_id": "febc5cd86a28499fa615ce125d7ff3c2",
       "version_major": 2,
       "version_minor": 0
      },
      "text/plain": [
       "Text(value='Python CS403', description='Header:', layout=Layout(width='50%'), placeholder='Text Header Here')"
      ]
     },
     "metadata": {},
     "output_type": "display_data"
    },
    {
     "data": {
      "application/vnd.jupyter.widget-view+json": {
       "model_id": "d9de03e1d3c647ffa80059ef0a4b7cad",
       "version_major": 2,
       "version_minor": 0
      },
      "text/plain": [
       "Textarea(value=\"The Zen of Python, by Tim Peters<br><br>Beautiful is better than ugly.<br>Explicit is better t…"
      ]
     },
     "metadata": {},
     "output_type": "display_data"
    },
    {
     "data": {
      "application/vnd.jupyter.widget-view+json": {
       "model_id": "6b8e0ee7668d499aa650cd4d8bc54914",
       "version_major": 2,
       "version_minor": 0
      },
      "text/plain": [
       "Text(value='https://logos-world.net/wp-content/uploads/2021/10/Python-Symbol.png', description='Image URL:', l…"
      ]
     },
     "metadata": {},
     "output_type": "display_data"
    },
    {
     "data": {
      "application/vnd.jupyter.widget-view+json": {
       "model_id": "dd52fc6550e2443aab9a5e058b2ae5c4",
       "version_major": 2,
       "version_minor": 0
      },
      "text/plain": [
       "VBox(children=(Button(description='Store Image', layout=Layout(width='50%'), style=ButtonStyle(), tooltip='Sto…"
      ]
     },
     "metadata": {},
     "output_type": "display_data"
    },
    {
     "data": {
      "application/vnd.jupyter.widget-view+json": {
       "model_id": "bde1b3901352486cbe3c980c6c3e2b2c",
       "version_major": 2,
       "version_minor": 0
      },
      "text/plain": [
       "VBox(children=(Button(button_style='warning', description='Save Input', layout=Layout(width='50%'), style=Butt…"
      ]
     },
     "metadata": {},
     "output_type": "display_data"
    },
    {
     "data": {
      "application/vnd.jupyter.widget-view+json": {
       "model_id": "606ea71468fd414ab59de70ce09c27dc",
       "version_major": 2,
       "version_minor": 0
      },
      "text/plain": [
       "VBox(children=(Button(button_style='danger', description='Show Document', layout=Layout(width='50%'), style=Bu…"
      ]
     },
     "metadata": {},
     "output_type": "display_data"
    },
    {
     "data": {
      "application/vnd.jupyter.widget-view+json": {
       "model_id": "d65cb6e0010240ba9ab182752fa9fd6b",
       "version_major": 2,
       "version_minor": 0
      },
      "text/plain": [
       "VBox(children=(Button(button_style='success', description='Show Raw HTML', layout=Layout(width='50%'), style=B…"
      ]
     },
     "metadata": {},
     "output_type": "display_data"
    },
    {
     "data": {
      "application/vnd.jupyter.widget-view+json": {
       "model_id": "38874b3a468a4cd092950cf5d5ebb79c",
       "version_major": 2,
       "version_minor": 0
      },
      "text/plain": [
       "VBox(children=(Button(button_style='info', description='Store Webpage', layout=Layout(width='50%'), style=Butt…"
      ]
     },
     "metadata": {},
     "output_type": "display_data"
    }
   ],
   "source": [
    "directory_box = widgets.Text(\n",
    "    value=result_dict['Directory'],\n",
    "    description='Directory:',\n",
    "    tooltip='Destination Directory for Generated Files',\n",
    "    layout=widgets.Layout(width=width),\n",
    ")\n",
    "display(directory_box)\n",
    "title_box = widgets.Text(\n",
    "    value=result_dict['Title'],\n",
    "    placeholder='Tab Title Here',\n",
    "    description='Title:',\n",
    "    layout=widgets.Layout(width=width),\n",
    ")\n",
    "display(title_box)\n",
    "header_box = widgets.Text(\n",
    "    value=result_dict['Header'],\n",
    "    placeholder='Text Header Here',\n",
    "    description='Header:',\n",
    "    layout=widgets.Layout(width=width),\n",
    ")\n",
    "display(header_box)\n",
    "paragraph_box = widgets.Textarea(\n",
    "    value=result_dict['Paragraph'],\n",
    "    placeholder='Formatted Text Here',\n",
    "    description='Paragraph:',\n",
    "    layout=widgets.Layout(width=width),\n",
    ")\n",
    "display(paragraph_box)\n",
    "image_box = widgets.Text(\n",
    "    value=result_dict['Image'],\n",
    "    placeholder='Link to Image Here',\n",
    "    description='Image URL:',\n",
    "    layout=widgets.Layout(width=width),\n",
    ")\n",
    "display(image_box)\n",
    "store_button = widgets.Button(\n",
    "    value=False,\n",
    "    description='Store Image',\n",
    "    button_style='',\n",
    "    tooltip='Store Image in Local Directory?',\n",
    "    layout=widgets.Layout(width=width),\n",
    ")\n",
    "save_button = widgets.Button(\n",
    "    value=False,\n",
    "    description='Save Input',\n",
    "    button_style='warning',\n",
    "    tooltip='Update Webpage Document?',\n",
    "    layout=widgets.Layout(width=width),\n",
    ")\n",
    "save_input = widgets.Output()\n",
    "show_button = widgets.Button(\n",
    "    value=False,\n",
    "    description='Show Document',\n",
    "    button_style='danger',\n",
    "    tooltip='Show Webpage Results?',\n",
    "    layout=widgets.Layout(width=width),\n",
    ")    \n",
    "show_output = widgets.Output()\n",
    "finish_button = widgets.Button(\n",
    "    value=False,\n",
    "    description='Store Webpage',\n",
    "    button_style='info',\n",
    "    tooltip='Show Webpage Results?',\n",
    "    layout=widgets.Layout(width=width),\n",
    ")    \n",
    "finish_output = widgets.Output()\n",
    "img_output = widgets.Output()\n",
    "\n",
    "show_text_button = widgets.Button(\n",
    "    value=False,\n",
    "    description='Show Raw HTML',\n",
    "    button_style='success',\n",
    "    tooltip='Display the HTML Contents?',\n",
    "    layout=widgets.Layout(width=width),\n",
    ")    \n",
    "show_text_output = widgets.Output()\n",
    "\n",
    "display(widgets.VBox([store_button, img_output]))\n",
    "display(widgets.VBox([save_button, save_input]))\n",
    "display(widgets.VBox([show_button, show_output]))\n",
    "display(widgets.VBox([show_text_button, show_text_output]))\n",
    "display(widgets.VBox([finish_button, finish_output]))\n",
    "\n",
    "def finish(b):\n",
    "    with finish_output:\n",
    "        clear_output()\n",
    "        file_path = os.path.join(result_dict['Directory'], 'webpage.html')\n",
    "        with open(file_path, 'w') as f:\n",
    "            f.write(html)\n",
    "        print(f\"File Written to {file_path} Finished!\")\n",
    "\n",
    "def show_raw_html(b):\n",
    "    with show_text_output:\n",
    "        if auto_save: update_dict()\n",
    "        clear_output()\n",
    "        print(html)\n",
    "        return\n",
    "    \n",
    "def update_dict():\n",
    "    result_dict['Directory'] = directory_box.value\n",
    "    result_dict['Title'] = title_box.value\n",
    "    result_dict['Header'] = header_box.value\n",
    "    paragraph_string = paragraph_box.value\n",
    "    paragraph_string = paragraph_string.replace(r'\\t','&emsp;').replace(r'\\n','<br>')\n",
    "    result_dict['Paragraph'] = paragraph_string\n",
    "    if img_stored not in image_box.value: result_dict['Image'] = image_box.value\n",
    "    local_path = os.path.join(result_dict['Directory'], result_dict['Image'].split('/')[-1])\n",
    "    return\n",
    "\n",
    "def on_click(b):\n",
    "    with save_input:\n",
    "        clear_output()\n",
    "        if auto_save: update_dict()\n",
    "        print(\"Results Saved!\")\n",
    "\n",
    "def save_img(b):\n",
    "    with img_output:\n",
    "        global img_stored\n",
    "        clear_output()\n",
    "        local_path = image_box.value.split('/')[-1]\n",
    "        abs_path = os.path.join(result_dict['Directory'], local_path)\n",
    "        target_dir = result_dict['Directory']\n",
    "        if not os.path.exists(target_dir):\n",
    "            print(f'Creating Directory {target_dir}')\n",
    "            os.mkdir(target_dir)\n",
    "        print(f'Saving Image to {abs_path}')\n",
    "        if image_box.value.startswith(('htt','www')):\n",
    "            urllib.request.urlretrieve(image_box.value, abs_path)\n",
    "        result_dict['Image'] = abs_path\n",
    "        img_stored = local_path\n",
    "        update_dict()\n",
    "        \n",
    "def show_results(b):\n",
    "    with show_output:\n",
    "        global html\n",
    "        if auto_save: update_dict()\n",
    "        clear_output()\n",
    "#         img_path = result_dict['Image'] if img_stored not in result_dict['Image'] else img_stored\n",
    "        a = Airium()\n",
    "        a('<!DOCTYPE html>')\n",
    "        with a.html(lang=\"pl\"):\n",
    "            with a.head():\n",
    "                a.meta(charset=\"utf-8\")\n",
    "                a.link(rel='stylesheet', href='style.css')\n",
    "                a.title(text=result_dict['Title'])\n",
    "            with a.body():\n",
    "                with a.h1(id='1', klass='main_header'):\n",
    "                    a(result_dict['Header'])\n",
    "            a.img(src=result_dict['Image'], id='3', klass='main_image', alt='Image Should be Stored Locally', width='25%', height='auto')\n",
    "            with a.body():\n",
    "                with a.p(id='2', klass='main_paragraph'):\n",
    "                    a(result_dict['Paragraph'])\n",
    "        # Casting the file to a string to extract the value\n",
    "        html = str(a)\n",
    "        display(HTML(html))\n",
    "        return\n",
    "    \n",
    "show_text_button.on_click(show_raw_html)\n",
    "store_button.on_click(save_img)\n",
    "show_button.on_click(show_results)    \n",
    "save_button.on_click(on_click)\n",
    "finish_button.on_click(finish)"
   ]
  },
  {
   "cell_type": "code",
   "execution_count": null,
   "id": "a1a97d65",
   "metadata": {},
   "outputs": [],
   "source": []
  }
 ],
 "metadata": {
  "kernelspec": {
   "display_name": "Python 3 (ipykernel)",
   "language": "python",
   "name": "python3"
  },
  "language_info": {
   "codemirror_mode": {
    "name": "ipython",
    "version": 3
   },
   "file_extension": ".py",
   "mimetype": "text/x-python",
   "name": "python",
   "nbconvert_exporter": "python",
   "pygments_lexer": "ipython3",
   "version": "3.9.12"
  }
 },
 "nbformat": 4,
 "nbformat_minor": 5
}
